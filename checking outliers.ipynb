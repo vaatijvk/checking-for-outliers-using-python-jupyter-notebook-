{
 "cells": [
  {
   "cell_type": "code",
   "execution_count": 1,
   "id": "76589ed6",
   "metadata": {},
   "outputs": [],
   "source": [
    "import pandas as pd"
   ]
  },
  {
   "cell_type": "code",
   "execution_count": 5,
   "id": "824aa68d",
   "metadata": {},
   "outputs": [
    {
     "data": {
      "text/plain": [
       "'C:\\\\Users\\\\USER\\\\Desktop\\\\data analysis\\\\Employee_data_modified.xlsx'"
      ]
     },
     "execution_count": 5,
     "metadata": {},
     "output_type": "execute_result"
    }
   ],
   "source": [
    "import os\n",
    "\n",
    "# Replace 'Employee_data_modified.xlsx' with your actual file name\n",
    "file_name = 'Employee_data_modified.xlsx'\n",
    "\n",
    "# Get the absolute path of the file\n",
    "file_path = os.path.abspath(file_name)\n",
    "\n",
    "# Display the file path\n",
    "file_path\n"
   ]
  },
  {
   "cell_type": "code",
   "execution_count": 7,
   "id": "87166f51",
   "metadata": {},
   "outputs": [],
   "source": [
    "file_name = 'C:\\\\Users\\\\USER\\\\Desktop\\\\data analysis\\\\Employee_data_modified.xlsx'"
   ]
  },
  {
   "cell_type": "code",
   "execution_count": 11,
   "id": "8042cd97",
   "metadata": {},
   "outputs": [
    {
     "data": {
      "text/html": [
       "<div>\n",
       "<style scoped>\n",
       "    .dataframe tbody tr th:only-of-type {\n",
       "        vertical-align: middle;\n",
       "    }\n",
       "\n",
       "    .dataframe tbody tr th {\n",
       "        vertical-align: top;\n",
       "    }\n",
       "\n",
       "    .dataframe thead th {\n",
       "        text-align: right;\n",
       "    }\n",
       "</style>\n",
       "<table border=\"1\" class=\"dataframe\">\n",
       "  <thead>\n",
       "    <tr style=\"text-align: right;\">\n",
       "      <th></th>\n",
       "      <th>Employee_id</th>\n",
       "      <th>Department</th>\n",
       "      <th>Region</th>\n",
       "      <th>Education</th>\n",
       "      <th>Gender</th>\n",
       "      <th>Recruitment_channel</th>\n",
       "      <th>No_of_trainings</th>\n",
       "      <th>Age</th>\n",
       "      <th>Previous_year_rating</th>\n",
       "      <th>Length_of_service</th>\n",
       "      <th>KPIs_met_more_than_80</th>\n",
       "      <th>Awards_won</th>\n",
       "      <th>Avg_training_score</th>\n",
       "    </tr>\n",
       "  </thead>\n",
       "  <tbody>\n",
       "    <tr>\n",
       "      <th>0</th>\n",
       "      <td>8724</td>\n",
       "      <td>Technology</td>\n",
       "      <td>region_26</td>\n",
       "      <td>Bachelors</td>\n",
       "      <td>m</td>\n",
       "      <td>sourcing</td>\n",
       "      <td>1</td>\n",
       "      <td>24</td>\n",
       "      <td>3.345545</td>\n",
       "      <td>1</td>\n",
       "      <td>1</td>\n",
       "      <td>0</td>\n",
       "      <td>77</td>\n",
       "    </tr>\n",
       "    <tr>\n",
       "      <th>1</th>\n",
       "      <td>74430</td>\n",
       "      <td>HR</td>\n",
       "      <td>region_4</td>\n",
       "      <td>Bachelors</td>\n",
       "      <td>f</td>\n",
       "      <td>other</td>\n",
       "      <td>1</td>\n",
       "      <td>31</td>\n",
       "      <td>3.000000</td>\n",
       "      <td>5</td>\n",
       "      <td>0</td>\n",
       "      <td>0</td>\n",
       "      <td>51</td>\n",
       "    </tr>\n",
       "    <tr>\n",
       "      <th>2</th>\n",
       "      <td>72255</td>\n",
       "      <td>Sales &amp; Marketing</td>\n",
       "      <td>region_13</td>\n",
       "      <td>Bachelors</td>\n",
       "      <td>m</td>\n",
       "      <td>other</td>\n",
       "      <td>1</td>\n",
       "      <td>31</td>\n",
       "      <td>1.000000</td>\n",
       "      <td>4</td>\n",
       "      <td>0</td>\n",
       "      <td>0</td>\n",
       "      <td>47</td>\n",
       "    </tr>\n",
       "    <tr>\n",
       "      <th>3</th>\n",
       "      <td>38562</td>\n",
       "      <td>Procurement</td>\n",
       "      <td>region_2</td>\n",
       "      <td>Bachelors</td>\n",
       "      <td>f</td>\n",
       "      <td>other</td>\n",
       "      <td>3</td>\n",
       "      <td>31</td>\n",
       "      <td>2.000000</td>\n",
       "      <td>9</td>\n",
       "      <td>0</td>\n",
       "      <td>0</td>\n",
       "      <td>65</td>\n",
       "    </tr>\n",
       "    <tr>\n",
       "      <th>4</th>\n",
       "      <td>64486</td>\n",
       "      <td>Finance</td>\n",
       "      <td>region_29</td>\n",
       "      <td>Bachelors</td>\n",
       "      <td>m</td>\n",
       "      <td>sourcing</td>\n",
       "      <td>1</td>\n",
       "      <td>30</td>\n",
       "      <td>4.000000</td>\n",
       "      <td>7</td>\n",
       "      <td>0</td>\n",
       "      <td>0</td>\n",
       "      <td>61</td>\n",
       "    </tr>\n",
       "  </tbody>\n",
       "</table>\n",
       "</div>"
      ],
      "text/plain": [
       "   Employee_id         Department     Region  Education Gender  \\\n",
       "0         8724         Technology  region_26  Bachelors      m   \n",
       "1        74430                 HR   region_4  Bachelors      f   \n",
       "2        72255  Sales & Marketing  region_13  Bachelors      m   \n",
       "3        38562        Procurement   region_2  Bachelors      f   \n",
       "4        64486            Finance  region_29  Bachelors      m   \n",
       "\n",
       "  Recruitment_channel  No_of_trainings  Age  Previous_year_rating  \\\n",
       "0            sourcing                1   24              3.345545   \n",
       "1               other                1   31              3.000000   \n",
       "2               other                1   31              1.000000   \n",
       "3               other                3   31              2.000000   \n",
       "4            sourcing                1   30              4.000000   \n",
       "\n",
       "   Length_of_service  KPIs_met_more_than_80  Awards_won  Avg_training_score  \n",
       "0                  1                      1           0                  77  \n",
       "1                  5                      0           0                  51  \n",
       "2                  4                      0           0                  47  \n",
       "3                  9                      0           0                  65  \n",
       "4                  7                      0           0                  61  "
      ]
     },
     "execution_count": 11,
     "metadata": {},
     "output_type": "execute_result"
    }
   ],
   "source": [
    "df = pd.read_excel(file_name)\n",
    "df.head()"
   ]
  },
  {
   "cell_type": "markdown",
   "id": "3aab4df8",
   "metadata": {},
   "source": [
    "## using desriptive statistics to check for outliers"
   ]
  },
  {
   "cell_type": "code",
   "execution_count": 12,
   "id": "78e44823",
   "metadata": {},
   "outputs": [
    {
     "name": "stdout",
     "output_type": "stream",
     "text": [
      "        Employee_id  No_of_trainings           Age  Previous_year_rating  \\\n",
      "count  17413.000000     17413.000000  17413.000000          17413.000000   \n",
      "mean   39079.357434         1.250732     34.808247              3.345545   \n",
      "std    22707.709738         0.595724      7.694819              1.214612   \n",
      "min        3.000000         1.000000     20.000000              1.000000   \n",
      "25%    19280.000000         1.000000     29.000000              3.000000   \n",
      "50%    39113.000000         1.000000     33.000000              3.000000   \n",
      "75%    58836.000000         1.000000     39.000000              4.000000   \n",
      "max    78295.000000         9.000000     60.000000              5.000000   \n",
      "\n",
      "       Length_of_service  KPIs_met_more_than_80    Awards_won  \\\n",
      "count       17413.000000           17413.000000  17413.000000   \n",
      "mean            5.801585               0.358812      0.023373   \n",
      "std             4.175849               0.479666      0.151091   \n",
      "min             1.000000               0.000000      0.000000   \n",
      "25%             3.000000               0.000000      0.000000   \n",
      "50%             5.000000               0.000000      0.000000   \n",
      "75%             7.000000               1.000000      0.000000   \n",
      "max            34.000000               1.000000      1.000000   \n",
      "\n",
      "       Avg_training_score  \n",
      "count        17413.000000  \n",
      "mean            63.175673  \n",
      "std             13.417725  \n",
      "min             39.000000  \n",
      "25%             51.000000  \n",
      "50%             60.000000  \n",
      "75%             75.000000  \n",
      "max             99.000000  \n"
     ]
    }
   ],
   "source": [
    "# Assuming your DataFrame is named 'df'\n",
    "summary_stats = df.describe()\n",
    "print(summary_stats)\n"
   ]
  },
  {
   "cell_type": "markdown",
   "id": "39edb3c7",
   "metadata": {},
   "source": [
    "## using a box plot to check for outliers"
   ]
  },
  {
   "cell_type": "code",
   "execution_count": 14,
   "id": "6032a4ec",
   "metadata": {},
   "outputs": [
    {
     "data": {
      "image/png": "[encoded data removed]",
      "text/plain": [
       "<Figure size 640x480 with 1 Axes>"
      ]
     },
     "metadata": {},
     "output_type": "display_data"
    }
   ],
   "source": [
    "import matplotlib.pyplot as plt\n",
    "\n",
    "# Assuming your DataFrame is named 'df'\n",
    "df.boxplot(column=['No_of_trainings', 'Age', 'Previous_year_rating', 'Length_of_service', 'Avg_training_score'])\n",
    "plt.show()\n"
   ]
  },
  {
   "cell_type": "markdown",
   "id": "0c9ff95c",
   "metadata": {},
   "source": [
    "## using Z-score to check for outliers"
   ]
  },
  {
   "cell_type": "code",
   "execution_count": 17,
   "id": "fe96fecf",
   "metadata": {},
   "outputs": [
    {
     "data": {
      "text/html": [
       "<div>\n",
       "<style scoped>\n",
       "    .dataframe tbody tr th:only-of-type {\n",
       "        vertical-align: middle;\n",
       "    }\n",
       "\n",
       "    .dataframe tbody tr th {\n",
       "        vertical-align: top;\n",
       "    }\n",
       "\n",
       "    .dataframe thead th {\n",
       "        text-align: right;\n",
       "    }\n",
       "</style>\n",
       "<table border=\"1\" class=\"dataframe\">\n",
       "  <thead>\n",
       "    <tr style=\"text-align: right;\">\n",
       "      <th></th>\n",
       "      <th>Employee_id</th>\n",
       "      <th>Department</th>\n",
       "      <th>Region</th>\n",
       "      <th>Education</th>\n",
       "      <th>Gender</th>\n",
       "      <th>Recruitment_channel</th>\n",
       "      <th>No_of_trainings</th>\n",
       "      <th>Age</th>\n",
       "      <th>Previous_year_rating</th>\n",
       "      <th>Length_of_service</th>\n",
       "      <th>KPIs_met_more_than_80</th>\n",
       "      <th>Awards_won</th>\n",
       "      <th>Avg_training_score</th>\n",
       "    </tr>\n",
       "  </thead>\n",
       "  <tbody>\n",
       "  </tbody>\n",
       "</table>\n",
       "</div>"
      ],
      "text/plain": [
       "Empty DataFrame\n",
       "Columns: [Employee_id, Department, Region, Education, Gender, Recruitment_channel, No_of_trainings, Age, Previous_year_rating, Length_of_service, KPIs_met_more_than_80, Awards_won, Avg_training_score]\n",
       "Index: []"
      ]
     },
     "execution_count": 17,
     "metadata": {},
     "output_type": "execute_result"
    }
   ],
   "source": [
    "from scipy.stats import zscore\n",
    "\n",
    "\n",
    "numeric_cols = df.select_dtypes(include='number')\n",
    "z_scores = abs(zscore(numeric_cols))\n",
    "\n",
    "# Threshold for considering a data point as an outlier (e.g., 3)\n",
    "threshold = 3\n",
    "outliers = (z_scores > threshold).all(axis=1)\n",
    "\n",
    "# Display rows with outliers\n",
    "df[outliers]\n"
   ]
  },
  {
   "cell_type": "markdown",
   "id": "ea23caa3",
   "metadata": {},
   "source": [
    "#### In conclusion, there were no outliers found"
   ]
  },
  {
   "cell_type": "code",
   "execution_count": null,
   "id": "53351986",
   "metadata": {},
   "outputs": [],
   "source": []
  }
 ],
 "metadata": {
  "kernelspec": {
   "display_name": "Python 3 (ipykernel)",
   "language": "python",
   "name": "python3"
  },
  "language_info": {
   "codemirror_mode": {
    "name": "ipython",
    "version": 3
   },
   "file_extension": ".py",
   "mimetype": "text/x-python",
   "name": "python",
   "nbconvert_exporter": "python",
   "pygments_lexer": "ipython3",
   "version": "3.9.13"
  }
 },
 "nbformat": 4,
 "nbformat_minor": 5
}
